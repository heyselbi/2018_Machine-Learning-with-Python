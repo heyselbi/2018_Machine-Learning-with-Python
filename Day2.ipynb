{
 "cells": [
  {
   "cell_type": "code",
   "execution_count": 1,
   "metadata": {},
   "outputs": [],
   "source": [
    "import numpy as np\n",
    "import matplotlib.pyplot as plt"
   ]
  },
  {
   "cell_type": "code",
   "execution_count": 3,
   "metadata": {},
   "outputs": [],
   "source": [
    "features_origin = np.loadtxt('CollML_testdataset_features.dat')\n",
    "labels_origin = np.loadtxt('CollML_testdataset_labels.dat')\n",
    "#delta defines definition/high or low definition. small x: how many elements do you have on an axis.\n",
    "#delta tells how close the dots ae"
   ]
  },
  {
   "cell_type": "code",
   "execution_count": 4,
   "metadata": {},
   "outputs": [
    {
     "name": "stdout",
     "output_type": "stream",
     "text": [
      "Shape of features (500, 2)\n",
      "Shape of labels (500,)\n"
     ]
    }
   ],
   "source": [
    "print(\"Shape of features\", features_origin.shape)\n",
    "print(\"Shape of labels\", labels_origin.shape)"
   ]
  },
  {
   "cell_type": "code",
   "execution_count": 5,
   "metadata": {},
   "outputs": [
    {
     "data": {
      "text/plain": [
       "array([0., 1.])"
      ]
     },
     "execution_count": 5,
     "metadata": {},
     "output_type": "execute_result"
    }
   ],
   "source": [
    "np.unique(labels_origin)"
   ]
  },
  {
   "cell_type": "code",
   "execution_count": 6,
   "metadata": {},
   "outputs": [],
   "source": [
    "from sklearn.model_selection import train_test_split\n",
    "\n",
    "features, features_test, labels, labels_test = train_test_split( \n",
    "                features_origin, labels_origin, test_size=0.2,\n",
    "                shuffle=False)"
   ]
  },
  {
   "cell_type": "code",
   "execution_count": 7,
   "metadata": {},
   "outputs": [],
   "source": [
    "from sklearn.tree import DecisionTreeClassifier\n",
    "clf = DecisionTreeClassifier()"
   ]
  },
  {
   "cell_type": "code",
   "execution_count": 8,
   "metadata": {},
   "outputs": [
    {
     "data": {
      "text/plain": [
       "1.0"
      ]
     },
     "execution_count": 8,
     "metadata": {},
     "output_type": "execute_result"
    }
   ],
   "source": [
    "clf.fit( features, labels )\n",
    "clf.score( features, labels )"
   ]
  },
  {
   "cell_type": "code",
   "execution_count": 9,
   "metadata": {},
   "outputs": [],
   "source": [
    "from sklearn.tree import export_graphviz\n",
    "export_graphviz( clf, 'Graph_DecisionTree_testdataset.dat' )"
   ]
  },
  {
   "cell_type": "code",
   "execution_count": 10,
   "metadata": {},
   "outputs": [
    {
     "data": {
      "text/plain": [
       "array([0.35356621, 0.64643379])"
      ]
     },
     "execution_count": 10,
     "metadata": {},
     "output_type": "execute_result"
    }
   ],
   "source": [
    "clf.feature_importances_"
   ]
  },
  {
   "cell_type": "code",
   "execution_count": 11,
   "metadata": {},
   "outputs": [],
   "source": [
    "P1 = np.array([[-1,-1]])\n",
    "P2 = np.array([[-1,4]])"
   ]
  },
  {
   "cell_type": "code",
   "execution_count": 12,
   "metadata": {},
   "outputs": [
    {
     "data": {
      "image/png": "[encoded data removed]",
      "text/plain": [
       "<Figure size 432x288 with 1 Axes>"
      ]
     },
     "metadata": {
      "needs_background": "light"
     },
     "output_type": "display_data"
    }
   ],
   "source": [
    "delta = 0.5\n",
    "x     = np.arange(-2.0, 5.001, delta)\n",
    "y     = np.arange(-2.0, 5.001, delta)\n",
    "\n",
    "X, Y = np.meshgrid(x, y)\n",
    "Z    = clf.predict( np.c_[X.ravel(), Y.ravel()] )\n",
    "Z    = Z.reshape( X.shape )\n",
    "\n",
    "plt.contourf( X, Y, Z, cmap=plt.get_cmap('jet'))\n",
    "\n",
    "plt.show()"
   ]
  },
  {
   "cell_type": "code",
   "execution_count": 13,
   "metadata": {},
   "outputs": [
    {
     "data": {
      "image/png": "[encoded data removed]",
      "text/plain": [
       "<Figure size 288x216 with 1 Axes>"
      ]
     },
     "metadata": {
      "needs_background": "light"
     },
     "output_type": "display_data"
    },
    {
     "data": {
      "image/png": "[encoded data removed]",
      "text/plain": [
       "<Figure size 288x216 with 1 Axes>"
      ]
     },
     "metadata": {
      "needs_background": "light"
     },
     "output_type": "display_data"
    },
    {
     "data": {
      "image/png": "[encoded data removed]",
      "text/plain": [
       "<Figure size 288x216 with 1 Axes>"
      ]
     },
     "metadata": {
      "needs_background": "light"
     },
     "output_type": "display_data"
    }
   ],
   "source": [
    "# plot example of sampled data:\n",
    "np.random.seed(0)  # the random seed, to be sure that you always plot the same thing\n",
    "\n",
    "for i in range (3):\n",
    "    plt.figure( figsize=(4,3) )\n",
    "    \n",
    "    choice = np.random.random(size=len(labels))>0.8\n",
    "    plt.plot( features[ np.logical_and(choice , labels == 0), 0 ], features[ np.logical_and(choice , labels == 0), 1 ], 'o',\n",
    "               markersize=4, color='b')\n",
    "    plt.plot( features[ np.logical_and(choice , labels == 1), 0 ], features[ np.logical_and(choice , labels == 1), 1 ], 's',\n",
    "               markersize=4, color='r')\n",
    "    plt.xlabel('X1')\n",
    "    plt.ylabel('X2')\n",
    "    plt.show()"
   ]
  },
  {
   "cell_type": "code",
   "execution_count": 16,
   "metadata": {},
   "outputs": [],
   "source": [
    "from sklearn.ensemble import RandomForestClassifier"
   ]
  },
  {
   "cell_type": "code",
   "execution_count": 17,
   "metadata": {},
   "outputs": [
    {
     "name": "stdout",
     "output_type": "stream",
     "text": [
      "Out of bag score 0.9425\n"
     ]
    }
   ],
   "source": [
    "clf = RandomForestClassifier( n_estimators = 50, \n",
    "                            max_depth =5, oob_score = True )\n",
    "clf.fit( features, labels )\n",
    "print(\"Out of bag score\",clf.oob_score_)"
   ]
  },
  {
   "cell_type": "code",
   "execution_count": 18,
   "metadata": {},
   "outputs": [
    {
     "name": "stdout",
     "output_type": "stream",
     "text": [
      "Accuracy score:  0.9725\n",
      "Features importance:  [0.49441217 0.50558783]\n"
     ]
    }
   ],
   "source": [
    "print(\"Accuracy score: \",clf.score(features,labels))\n",
    "print(\"Features importance: \",clf.feature_importances_)"
   ]
  },
  {
   "cell_type": "code",
   "execution_count": 19,
   "metadata": {},
   "outputs": [
    {
     "name": "stdout",
     "output_type": "stream",
     "text": [
      "Prediction for P1:  [0.]\n",
      "Prediction for P2:  [1.]\n"
     ]
    }
   ],
   "source": [
    "print(\"Prediction for P1: \", clf.predict(P1))\n",
    "print(\"Prediction for P2: \", clf.predict(P2))"
   ]
  },
  {
   "cell_type": "code",
   "execution_count": 20,
   "metadata": {},
   "outputs": [
    {
     "data": {
      "image/png": "[encoded data removed]",
      "text/plain": [
       "<Figure size 432x288 with 1 Axes>"
      ]
     },
     "metadata": {
      "needs_background": "light"
     },
     "output_type": "display_data"
    }
   ],
   "source": [
    "delta = 0.01\n",
    "x     = np.arange(-2.0, 5.001, delta)\n",
    "y     = np.arange(-2.0, 5.001, delta)\n",
    "\n",
    "X, Y = np.meshgrid(x, y)\n",
    "Z    = clf.predict( np.c_[X.ravel(), Y.ravel()] )\n",
    "Z    = Z.reshape( X.shape )\n",
    "\n",
    "plt.contourf( X, Y, Z, cmap=plt.get_cmap('jet'))\n",
    "plt.xlim(-2, 5)\n",
    "plt.ylim(-2, 5)\n",
    "\n",
    "plt.show()"
   ]
  },
  {
   "cell_type": "code",
   "execution_count": 21,
   "metadata": {},
   "outputs": [],
   "source": [
    "from sklearn.svm import SVC"
   ]
  },
  {
   "cell_type": "code",
   "execution_count": 22,
   "metadata": {},
   "outputs": [
    {
     "name": "stdout",
     "output_type": "stream",
     "text": [
      "0.96\n"
     ]
    }
   ],
   "source": [
    "clf = SVC()\n",
    "clf.fit( features, labels )\n",
    "print( clf.score( features, labels ) )"
   ]
  },
  {
   "cell_type": "code",
   "execution_count": 23,
   "metadata": {},
   "outputs": [
    {
     "name": "stdout",
     "output_type": "stream",
     "text": [
      "1.0\n"
     ]
    }
   ],
   "source": [
    "clf = SVC(gamma = 10000)\n",
    "clf.fit( features, labels )\n",
    "print( clf.score( features, labels ) )"
   ]
  },
  {
   "cell_type": "code",
   "execution_count": 25,
   "metadata": {},
   "outputs": [],
   "source": [
    "def plotContours(clf, delta = 0.01):\n",
    "    \n",
    "    x     = np.arange(-2.0, 5.001, delta)\n",
    "    y     = np.arange(-2.0, 5.001, delta)\n",
    "\n",
    "    X, Y = np.meshgrid(x, y)\n",
    "    Z    = clf.predict( np.c_[X.ravel(), Y.ravel()] )\n",
    "    Z    = Z.reshape( X.shape )\n",
    "\n",
    "    plt.contourf( X, Y, Z, cmap=plt.get_cmap('jet'))\n",
    "    plt.xlim(-2, 5)\n",
    "    plt.ylim(-2, 5)\n",
    "\n",
    "    plt.xlabel('X1')\n",
    "    plt.ylabel('X2')\n",
    "\n",
    "    plt.tight_layout()\n",
    "    plt.show()\n",
    "    \n",
    "    return"
   ]
  },
  {
   "cell_type": "code",
   "execution_count": 37,
   "metadata": {},
   "outputs": [
    {
     "data": {
      "image/png": "[encoded data removed]",
      "text/plain": [
       "<Figure size 432x288 with 1 Axes>"
      ]
     },
     "metadata": {
      "needs_background": "light"
     },
     "output_type": "display_data"
    }
   ],
   "source": [
    "clf = SVC(C=1, gamma = 1)\n",
    "clf.fit(features, labels)\n",
    "plotContours(clf)"
   ]
  },
  {
   "cell_type": "code",
   "execution_count": 39,
   "metadata": {},
   "outputs": [],
   "source": [
    "from sklearn.model_selection import train_test_split\n",
    "\n",
    "X_train, X_valid, Y_train, Y_valid = train_test_split( \n",
    "        features, labels, test_size=0.33,shuffle=False)"
   ]
  },
  {
   "cell_type": "code",
   "execution_count": 42,
   "metadata": {},
   "outputs": [
    {
     "data": {
      "image/png": "[encoded data removed]",
      "text/plain": [
       "<Figure size 432x288 with 1 Axes>"
      ]
     },
     "metadata": {
      "needs_background": "light"
     },
     "output_type": "display_data"
    }
   ],
   "source": [
    "setGammas = np.array( [0.003,0.01,0.03,0.1,0.3,1.0,3.,10.,30.,100.,300] )\n",
    "\n",
    "accuracies = []\n",
    "for gamma in setGammas:\n",
    "    clf = SVC( C = 1., gamma = gamma )\n",
    "    clf.fit( X_train, Y_train )\n",
    "    accuracies.append( clf.score(X_valid, Y_valid) )\n",
    "\n",
    "plt.plot(setGammas, accuracies)\n",
    "\n",
    "plt.ylabel(r'Accuracy')\n",
    "plt.xlabel(r'$\\gamma$')\n",
    "plt.xscale('log')\n",
    "\n",
    "plt.show()"
   ]
  },
  {
   "cell_type": "code",
   "execution_count": 43,
   "metadata": {},
   "outputs": [
    {
     "data": {
      "image/png": "[encoded data removed]",
      "text/plain": [
       "<Figure size 432x288 with 1 Axes>"
      ]
     },
     "metadata": {
      "needs_background": "light"
     },
     "output_type": "display_data"
    }
   ],
   "source": [
    "setGammas = np.array( [0.003,0.01,0.03,0.1,0.3,1.0,3.,10.,30.,100.,300] )\n",
    "\n",
    "accuracies = []\n",
    "for gamma in setGammas:\n",
    "    clf = SVC( C = 1., gamma = gamma )\n",
    "    clf.fit( features, labels)\n",
    "    accuracies.append( clf.score(features,labels) )\n",
    "\n",
    "plt.plot(setGammas, accuracies)\n",
    "\n",
    "plt.ylabel(r'Accuracy')\n",
    "plt.xlabel(r'$\\gamma$')\n",
    "plt.xscale('log')\n",
    "\n",
    "plt.show()"
   ]
  },
  {
   "cell_type": "code",
   "execution_count": 44,
   "metadata": {},
   "outputs": [],
   "source": [
    "from sklearn.model_selection import KFold"
   ]
  },
  {
   "cell_type": "code",
   "execution_count": 45,
   "metadata": {},
   "outputs": [
    {
     "name": "stdout",
     "output_type": "stream",
     "text": [
      "0.92\n",
      "0.95\n",
      "0.96\n",
      "0.98\n"
     ]
    }
   ],
   "source": [
    "kf = KFold(n_splits=4)\n",
    "\n",
    "for train_index, valid_index in kf.split( features ):\n",
    "    X_train = features[train_index]\n",
    "    X_valid  = features[valid_index]\n",
    "    Y_train = labels[train_index]\n",
    "    Y_valid  = labels[valid_index]\n",
    "    \n",
    "    clf = SVC( C = 1., gamma = 0.5 )\n",
    "    clf.fit( X_train, Y_train )\n",
    "    print( clf.score(X_valid, Y_valid) )"
   ]
  },
  {
   "cell_type": "code",
   "execution_count": 46,
   "metadata": {},
   "outputs": [],
   "source": [
    "from sklearn.metrics import accuracy_score\n",
    "from sklearn.metrics import precision_score\n",
    "from sklearn.metrics import recall_score\n",
    "from sklearn.metrics import f1_score"
   ]
  },
  {
   "cell_type": "code",
   "execution_count": 47,
   "metadata": {},
   "outputs": [
    {
     "name": "stdout",
     "output_type": "stream",
     "text": [
      "Accuracy:  0.93\n",
      "Precision:  0.9534883720930233\n",
      "Recall:  0.8913043478260869\n",
      "F1-score:  0.9213483146067417\n"
     ]
    }
   ],
   "source": [
    "clf = RandomForestClassifier( n_estimators = 5 )\n",
    "clf.fit( features, labels )\n",
    "\n",
    "print(\"Accuracy: \", accuracy_score(labels_test, clf.predict(features_test)))\n",
    "print(\"Precision: \", precision_score(labels_test, clf.predict(features_test)))\n",
    "print(\"Recall: \", recall_score(labels_test, clf.predict(features_test)))\n",
    "print(\"F1-score: \", f1_score(labels_test, clf.predict(features_test)))"
   ]
  },
  {
   "cell_type": "code",
   "execution_count": 48,
   "metadata": {},
   "outputs": [
    {
     "name": "stdout",
     "output_type": "stream",
     "text": [
      "Accuracy:  0.96\n",
      "Precision:  0.9772727272727273\n",
      "Recall:  0.9347826086956522\n",
      "F1-score:  0.9555555555555557\n"
     ]
    }
   ],
   "source": [
    "clf = SVC( C = 1., gamma = 1.)\n",
    "clf.fit( features, labels )        \n",
    "        \n",
    "print(\"Accuracy: \", accuracy_score(labels_test, clf.predict(features_test)))\n",
    "print(\"Precision: \", precision_score(labels_test, clf.predict(features_test)))\n",
    "print(\"Recall: \", recall_score(labels_test, clf.predict(features_test)))\n",
    "print(\"F1-score: \", f1_score(labels_test, clf.predict(features_test)))"
   ]
  },
  {
   "cell_type": "code",
   "execution_count": null,
   "metadata": {},
   "outputs": [],
   "source": []
  }
 ],
 "metadata": {
  "kernelspec": {
   "display_name": "Python 3",
   "language": "python",
   "name": "python3"
  },
  "language_info": {
   "codemirror_mode": {
    "name": "ipython",
    "version": 3
   },
   "file_extension": ".py",
   "mimetype": "text/x-python",
   "name": "python",
   "nbconvert_exporter": "python",
   "pygments_lexer": "ipython3",
   "version": "3.7.0"
  }
 },
 "nbformat": 4,
 "nbformat_minor": 2
}
